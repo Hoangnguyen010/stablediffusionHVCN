{
  "nbformat": 4,
  "nbformat_minor": 0,
  "metadata": {
    "colab": {
      "private_outputs": true,
      "provenance": [],
      "machine_shape": "hm",
      "gpuType": "L4",
      "include_colab_link": true
    },
    "kernelspec": {
      "name": "python3",
      "display_name": "Python 3"
    },
    "language_info": {
      "name": "python"
    },
    "accelerator": "GPU"
  },
  "cells": [
    {
      "cell_type": "markdown",
      "metadata": {
        "id": "view-in-github",
        "colab_type": "text"
      },
      "source": [
        "<a href=\"https://colab.research.google.com/github/Hoangnguyen010/stablediffusionHVCN/blob/main/notebooks/stablediffusionHVCN.ipynb\" target=\"_parent\"><img src=\"https://colab.research.google.com/assets/colab-badge.svg\" alt=\"Open In Colab\"/></a>"
      ]
    },
    {
      "cell_type": "code",
      "execution_count": null,
      "metadata": {
        "id": "6VvAaja7PsM_"
      },
      "outputs": [],
      "source": [
        "# Mount Google Drive\n",
        "from google.colab import drive\n",
        "drive.mount('/content/drive')\n"
      ]
    },
    {
      "cell_type": "code",
      "source": [
        "!pip install -q git+https://github.com/bmaltais/kohya_ss.git\n",
        "!pip install -q bitsandbytes accelerate transformers safetensors ftfy\n"
      ],
      "metadata": {
        "id": "me1zoHEbQfUq"
      },
      "execution_count": null,
      "outputs": []
    },
    {
      "cell_type": "code",
      "source": [
        "!nvidia-smi\n"
      ],
      "metadata": {
        "id": "JHxoJO7XXdU6"
      },
      "execution_count": null,
      "outputs": []
    },
    {
      "cell_type": "code",
      "source": [
        "# Kiểm tra thư mục hiện tại\n",
        "!pwd\n",
        "\n",
        "# Kiểm tra các thư mục trong /content\n",
        "!ls -la /content\n",
        "\n",
        "# Kiểm tra bên trong thư mục kohya_ss (nếu thư mục này tồn tại)\n",
        "!ls -la /content/kohya_ss\n"
      ],
      "metadata": {
        "id": "K50cL5s0X35Z"
      },
      "execution_count": null,
      "outputs": []
    },
    {
      "cell_type": "code",
      "source": [
        "!git clone https://github.com/bmaltais/kohya_ss.git /content/kohya_ss\n"
      ],
      "metadata": {
        "id": "6lyu641lYM61"
      },
      "execution_count": null,
      "outputs": []
    },
    {
      "cell_type": "code",
      "source": [
        "!ls -la /content/kohya_ss\n"
      ],
      "metadata": {
        "id": "oMlS4GFuYYoz"
      },
      "execution_count": null,
      "outputs": []
    },
    {
      "cell_type": "code",
      "source": [
        "%cd /content/kohya_ss\n",
        "!pip install -r requirements.txt\n"
      ],
      "metadata": {
        "id": "Ggm3IfAlYq-e"
      },
      "execution_count": null,
      "outputs": []
    },
    {
      "cell_type": "code",
      "source": [
        "%cd /content/kohya_ss\n",
        "!pip install -r sd-scripts/requirements.txt\n"
      ],
      "metadata": {
        "id": "xxkNSm8iZBga"
      },
      "execution_count": null,
      "outputs": []
    },
    {
      "cell_type": "code",
      "source": [
        "!cat /content/kohya_ss/requirements.txt\n"
      ],
      "metadata": {
        "id": "mSsPJkWjZj18"
      },
      "execution_count": null,
      "outputs": []
    },
    {
      "cell_type": "code",
      "source": [
        "# Xóa dòng gây lỗi (sd-scripts)\n",
        "!sed -i '/sd-scripts/d' /content/kohya_ss/requirements.txt\n"
      ],
      "metadata": {
        "id": "m4rCB5jIZqF2"
      },
      "execution_count": null,
      "outputs": []
    },
    {
      "cell_type": "code",
      "source": [
        "!pip install -r requirements.txt\n"
      ],
      "metadata": {
        "id": "OLsGrcjUZvai"
      },
      "execution_count": null,
      "outputs": []
    },
    {
      "cell_type": "code",
      "source": [
        "%cd /content/kohya_ss\n",
        "!pip list | grep -E 'accelerate|transformers|bitsandbytes'\n"
      ],
      "metadata": {
        "id": "d7O1tf3AayUd"
      },
      "execution_count": null,
      "outputs": []
    },
    {
      "cell_type": "code",
      "source": [
        "!pip install bitsandbytes\n"
      ],
      "metadata": {
        "id": "P-txX6yFbN7W"
      },
      "execution_count": null,
      "outputs": []
    },
    {
      "cell_type": "code",
      "source": [
        "!pip list | grep bitsandbytes\n"
      ],
      "metadata": {
        "id": "k4rbXnycbm6j"
      },
      "execution_count": null,
      "outputs": []
    },
    {
      "cell_type": "code",
      "source": [
        "!pip list | grep -E 'accelerate|transformers|bitsandbytes'\n"
      ],
      "metadata": {
        "id": "fFDDLEtUb5As"
      },
      "execution_count": null,
      "outputs": []
    },
    {
      "cell_type": "code",
      "source": [
        "!pwd\n",
        "!ls -la /content/kohya_ss\n"
      ],
      "metadata": {
        "id": "OKVwficxcG1C"
      },
      "execution_count": null,
      "outputs": []
    },
    {
      "cell_type": "code",
      "source": [
        "from google.colab import drive\n",
        "drive.mount('/content/drive')\n"
      ],
      "metadata": {
        "id": "TqaJVxTicb6Q"
      },
      "execution_count": null,
      "outputs": []
    },
    {
      "cell_type": "code",
      "source": [
        "!ls -la /content/drive/MyDrive/stablediffusionHVCN\n"
      ],
      "metadata": {
        "id": "hANcfCyycvtU"
      },
      "execution_count": null,
      "outputs": []
    },
    {
      "cell_type": "code",
      "source": [
        "!ls -la /content/drive/MyDrive/stablediffusionHVCN/inputimages\n"
      ],
      "metadata": {
        "id": "uJnChhetdTMc"
      },
      "execution_count": null,
      "outputs": []
    }
  ]
}